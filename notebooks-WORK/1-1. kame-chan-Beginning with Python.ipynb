{
 "cells": [
  {
   "cell_type": "markdown",
   "metadata": {},
   "source": [
    "<div class=\"alert alert-block alert-info\" style=\"background-color: #301E40; border: 0px; -moz-border-radius: 10px; -webkit-border-radius: 10px;\">\n",
    "<br/><br/>\n",
    "<h1 style=\"font-size: 45px; color: white; align: center;\"><center>\n",
    "<img src=\"https://raw.githubusercontent.com/HumbleData/beginners-data-workshop/master/media/humble-data-logo-white-transparent.png\" width=\"250px\" /><br/><br/>\n",
    "Introduction to Python\n",
    "</center></h1>\n",
    "</div>"
   ]
  },
  {
   "cell_type": "markdown",
   "metadata": {},
   "source": [
    "Humble Data\n",
    "Python の紹介"
   ]
  },
  {
   "cell_type": "markdown",
   "metadata": {},
   "source": [
    "## Welcome to learning Python!\n",
    "\n",
    "These notebooks contain a mix of text and code. This makes it easy to experiment with code and keep documentation like this in the same place. Another nice thing about these notebooks is that you can execute each cell individually and therefore work incrementally with your code. If you want to execute a cell, you can press the \"►\" button above when you have highlighted the cell. Alternatively, you can hit **Shift + Enter** to execute and progress to next cell or alternatively **Ctrl + Enter** (Win) or **Cmd + Enter** (Mac). \n",
    "\n",
    "We will walk you through different aspects of the Python language interactively. Take your time to experiment with it if you like and don't hesitate to ask or Google things. One of the first lessons in programming is using the documentation and information shared by other programmers. Jupyter has another trick, where you can put your cursor into the brackets of a function call such as `print()` and hit **Shift + Tab**. This will let you see the documentation of a function directly in the notebook (*pro-tip*: you can hit it up to four times for different effects).\n",
    "\n",
    "As for Python itself, one of the big strengths of Python is the extensibility. It has a surprising amount of functionality directly within the core language, however, you can `import` almost arbitrary code others make available as libraries. Below you can see a special import that shows you the \"Zen of Python\" a set of guidelines that could guide your programming journey.\""
   ]
  },
  {
   "cell_type": "markdown",
   "metadata": {},
   "source": [
    "## Pythonの世界へようこそ！\n",
    "\n",
    "このノートブック（Jupyter Notebook）には、コードとテキストの両方が記載されています。コードを実行したり、コメントを残したりできます。各セルを個別に実行できるので、少しずつコードを追加しながら実装していけます。セルを実行したい場合は、セルをハイライトした状態で上の\"►\"ボタンをクリックします。または、 **Shift + Enter** をセルを選択した状態で入力すると、セルを実行し、さらに次のセルを作成します。\n",
    "\n",
    "Pythonのさまざまな側面をインタラクティブに説明していきます。自分のペースで試してください。また、遠慮なく質問したり、ググったりしてください。最初の課題は、他のプログラマーが共有するドキュメントや情報を利用することです。Jupyter Notebookの別の機能を紹介します。 `print()` のような関数呼び出しの括弧の中にカーソルを置いて、　**Shift + Tab**　を入力できます。これにより、関数のドキュメントをノートブックで直接みられます。（*上級者向けTIP*: 4回までは異なる結果が表示されます）。\n",
    "\n",
    "Pythonそのものについて紹介します。Pythonの大きな強みの1つは拡張性です。Pythonには、多くの機能が最初から内包されています。また、他の人がライブラリとして公開している任意のコードを「インポート（取り込む）」できます。\n",
    "\n",
    "まず最初に、あなたのプログラミングの旅の指針となる「Pythonの禅」を示す特別なインポートを紹介します。"
   ]
  },
  {
   "cell_type": "code",
   "execution_count": null,
   "metadata": {
    "jupyter": {
     "outputs_hidden": false
    }
   },
   "outputs": [],
   "source": [
    "# We can use comments to document our code in a coding cell.\n",
    "import this  # Zen of Python"
   ]
  },
  {
   "cell_type": "markdown",
   "metadata": {},
   "source": [
    "**--> Simple is better than complex.**  \n",
    "It is really easy to print ***Hello World*** in Python:"
   ]
  },
  {
   "cell_type": "markdown",
   "metadata": {},
   "source": [
    "--> 複雑より単純がいい。\n",
    "\n",
    "Pythonで ***Hello World*** を表示するのはとても簡単です。"
   ]
  },
  {
   "cell_type": "code",
   "execution_count": null,
   "metadata": {
    "jupyter": {
     "outputs_hidden": false
    }
   },
   "outputs": [],
   "source": [
    "print('Hello World!')"
   ]
  },
  {
   "cell_type": "markdown",
   "metadata": {},
   "source": [
    "**PEP 8** is Python's style guide. You can find it here:\n",
    "https://www.python.org/dev/peps/pep-0008/\n",
    "\n",
    "It is good to know about, but when you become a professional programmer there are programs called a \"linter\" that will help you adhere to PEP 8."
   ]
  },
  {
   "cell_type": "markdown",
   "metadata": {},
   "source": [
    "**PEP 8** は、Pythonのスタイルガイドです。詳しくは以下にあります。\n",
    "https://peps.python.org/pep-0008/ （英語のページです）\n",
    "\n",
    "余談ですが、自分のコードがPEP 8に準拠しているか確認するための \"linter\" と呼ばれる静的解析ツールがあります。"
   ]
  }
 ],
 "metadata": {
  "kernelspec": {
   "display_name": "Python (beginners-data-workshop)",
   "language": "python",
   "name": "beginners-data-workshop"
  },
  "language_info": {
   "codemirror_mode": {
    "name": "ipython",
    "version": 3
   },
   "file_extension": ".py",
   "mimetype": "text/x-python",
   "name": "python",
   "nbconvert_exporter": "python",
   "pygments_lexer": "ipython3",
   "version": "3.9.13"
  }
 },
 "nbformat": 4,
 "nbformat_minor": 4
}
