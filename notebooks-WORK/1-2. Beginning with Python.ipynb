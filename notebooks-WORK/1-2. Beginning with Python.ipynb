{
 "cells": [
  {
   "cell_type": "markdown",
   "metadata": {},
   "source": [
    "<div class=\"alert alert-block alert-warning\" style=\"padding: 0px; padding-left: 20px; padding-top: 5px;\"><h2 style=\"color: #301E40\">\n",
    "Variables 変数\n",
    "</h2><br>\n",
    "</div>"
   ]
  },
  {
   "cell_type": "markdown",
   "metadata": {},
   "source": [
    "In programming it's very useful to store values. Accessing values through names is called a variable. Python is very user-friendly in that it will let you store most things in a variable, without making space in the computer's space explicitly. Moreover, computers need to differentiate between the type of data, such as, `5` being an integer and `'Hello'` being a string, but Python attempts to handle these intuitively for you. You will learn about the different types in the following sections!\n",
    "プログラミングでは、値を保存することが非常に役立ちます。名前を介して値にアクセスすることを変数と呼びます。Pythonは非常にユーザーフレンドリーで、ほとんどのものを明示的にコンピュータの領域にスペースを確保せずに変数に保存できます。さらに、コンピュータはデータの種類を区別する必要があります。例えば、5は整数であり、'Hello'は文字列ですが、Pythonはこれらを直感的に扱おうとします。次のセクションで異なるデータ型について学びます！\n",
    "\n",
    "**Python is an object oriented programming language. You do not need to declare variables (or their types) before using them as every variable in Python is an object.** \n",
    "Pythonはオブジェクト指向プログラミング言語です。Pythonでは、変数を使用する前に変数（またはその型）を宣言する必要はありません。なぜなら、Pythonのすべての変数はオブジェクトだからです。"
   ]
  },
  {
   "cell_type": "code",
   "execution_count": null,
   "metadata": {
    "jupyter": {
     "outputs_hidden": false
    }
   },
   "outputs": [],
   "source": [
    "name = 'Sandrine'"
   ]
  },
  {
   "cell_type": "code",
   "execution_count": null,
   "metadata": {
    "jupyter": {
     "outputs_hidden": false
    }
   },
   "outputs": [],
   "source": [
    "print(name)"
   ]
  },
  {
   "cell_type": "markdown",
   "metadata": {},
   "source": [
    "Moreover, variables can easily be updated. Try it out below!\n",
    "\n",
    "さらに、変数は簡単に更新できます。以下で試してみてください！\n",
    "\n"
   ]
  },
  {
   "cell_type": "markdown",
   "metadata": {},
   "source": [
    "---\n",
    "\n",
    "***Note***: this notebook contains cells with ***a*** solution. Remember there can be more than one solution to a problem in programming!\n",
    "You will recognise these cells as they start with\n",
    "```\n",
    "# %\n",
    "```\n",
    "注意: このノートブックには1つの解答を含むセルが含まれています。プログラミングの問題には複数の解決策が存在することを覚えておいてください！\n",
    "これらのセルは、次のように始まることで認識できます。\n",
    "```\n",
    "# %\n",
    "```\n",
    "\n",
    "If you would like to see the solution, you will have to remove the `#` using **Ctrl + /** (Windows) or **Cmd + /** (macOS) and then run the cell. If you want to run the solution code, you will have to run the cell again.\n",
    "\n",
    "解答を表示したい場合、#を削除する必要があります。これはCtrl + /（Windows）またはCmd + /（macOS）を使用して行います。その後、セルを実行します。解答コードを実行したい場合は、セルを再度実行する必要があります。\n",
    "\n",
    "\n",
    "---"
   ]
  },
  {
   "cell_type": "markdown",
   "metadata": {},
   "source": [
    ">Assign another string to the variable 'name' and print this variable\n",
    "\n",
    ">変数 'name' に別の文字列を割り当てて、この変数を表示してください。"
   ]
  },
  {
   "cell_type": "code",
   "execution_count": null,
   "metadata": {
    "jupyter": {
     "outputs_hidden": false
    }
   },
   "outputs": [],
   "source": []
  },
  {
   "cell_type": "code",
   "execution_count": null,
   "metadata": {
    "jupyter": {
     "outputs_hidden": false
    }
   },
   "outputs": [],
   "source": [
    "# %load ../solutions/01_01.py"
   ]
  },
  {
   "cell_type": "markdown",
   "metadata": {},
   "source": [
    "**!!! Variable can change type when re-assigned.**\n",
    "\n",
    "変数は再度割り当てられるときに型が変わることがあります。"
   ]
  },
  {
   "cell_type": "markdown",
   "metadata": {},
   "source": [
    ">Assign a number (without quotes) to the variable 'name' and print this variable\n",
    "\n",
    ">変数 'name' に数値（引用符なし）を割り当てて、この変数を表示してください。"
   ]
  },
  {
   "cell_type": "code",
   "execution_count": null,
   "metadata": {
    "jupyter": {
     "outputs_hidden": false
    }
   },
   "outputs": [],
   "source": []
  },
  {
   "cell_type": "code",
   "execution_count": null,
   "metadata": {
    "jupyter": {
     "outputs_hidden": false
    }
   },
   "outputs": [],
   "source": [
    "# %load ../solutions/01_02.py"
   ]
  },
  {
   "cell_type": "markdown",
   "metadata": {},
   "source": [
    "---"
   ]
  }
 ],
 "metadata": {
  "kernelspec": {
   "display_name": "Python (beginners-data-workshop)",
   "language": "python",
   "name": "beginners-data-workshop"
  },
  "language_info": {
   "codemirror_mode": {
    "name": "ipython",
    "version": 3
   },
   "file_extension": ".py",
   "mimetype": "text/x-python",
   "name": "python",
   "nbconvert_exporter": "python",
   "pygments_lexer": "ipython3",
   "version": "3.9.13"
  }
 },
 "nbformat": 4,
 "nbformat_minor": 4
}
