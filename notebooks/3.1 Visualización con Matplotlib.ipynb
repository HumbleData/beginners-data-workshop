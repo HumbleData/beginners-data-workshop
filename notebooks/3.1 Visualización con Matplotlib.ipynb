{
 "cells": [
  {
   "cell_type": "markdown",
   "metadata": {},
   "source": [
    "<div class=\"alert alert-block alert-info\" style=\"background-color: #301E40; border: 0px; -moz-border-radius: 10px; -webkit-border-radius: 10px;\">\n",
    "<br/><br/>\n",
    "<h1 style=\"font-size: 45px; color: white; align: center;\"><center>\n",
    "<img src=\"https://raw.githubusercontent.com/HumbleData/beginners-data-workshop/master/media/humble-data-logo-white-transparent.png\" width=\"250px\" /><br/><br/>\n",
    "Visualización de datos con matplotlib\n",
    "</center></h1>\n",
    "</div>"
   ]
  },
  {
   "cell_type": "markdown",
   "metadata": {},
   "source": [
    "![](https://matplotlib.org/_static/logo2_compressed.svg)"
   ]
  },
  {
   "cell_type": "markdown",
   "metadata": {},
   "source": [
    "<div class=\"alert alert-block alert-warning\" style=\"padding: 0px; padding-left: 20px; padding-top: 5px;\"><h2 style=\"color: #301E40\">\n",
    "Importar pyplot en matplotlib (y pandas)\n",
    "</h2><br>\n",
    "</div>"
   ]
  },
  {
   "cell_type": "markdown",
   "metadata": {},
   "source": [
    "Según la [documentación oficial](https://matplotlib.org/gallery/index.html):\n",
    "\n",
    "`matplotlib.pyplot` es una colección de funciones de estilo de comando que hacen que Matplotlib funcione como MATLAB. Cada función de pyplot realiza algún cambio en una figura: por ejemplo, crea una figura, crea un área de trazado en una figura, traza algunas líneas en un área de trazado, decora el trazado con etiquetas, etc.\n",
    "\n",
    "`pyplot` está destinado principalmente a gráficos interactivos y casos simples de generación de gráficos programáticos."
   ]
  },
  {
   "cell_type": "markdown",
   "metadata": {},
   "source": [
    "![](https://miro.medium.com/max/2000/1*swPzVFGpYdijWAmbrydCDw.png)"
   ]
  },
  {
   "cell_type": "code",
   "execution_count": null,
   "metadata": {
    "jupyter": {
     "outputs_hidden": false
    }
   },
   "outputs": [],
   "source": [
    "%matplotlib inline\n",
    "# Esto es para que la intérprete de ipython muestre la trama en Jupyter\n",
    "\n",
    "import pandas as pd\n",
    "import matplotlib.pyplot as plt"
   ]
  },
  {
   "cell_type": "markdown",
   "metadata": {},
   "source": [
    "### Importe el *dataframe* nuevamente, léelo en un *dataframe* de pandas y asígnelo a df."
   ]
  },
  {
   "cell_type": "code",
   "execution_count": null,
   "metadata": {
    "jupyter": {
     "outputs_hidden": false
    }
   },
   "outputs": [],
   "source": [
    "df = pd.read_csv('../data/Penguins/penguins_clean.csv')"
   ]
  },
  {
   "cell_type": "markdown",
   "metadata": {},
   "source": [
    "### Refrescar nuestra memoria sobre cómo se ven los datos"
   ]
  },
  {
   "cell_type": "code",
   "execution_count": null,
   "metadata": {
    "jupyter": {
     "outputs_hidden": false
    }
   },
   "outputs": [],
   "source": [
    "df.head()"
   ]
  },
  {
   "cell_type": "markdown",
   "metadata": {},
   "source": [
    "### Usando DataFrame.plot() en pandas\n",
    "\n",
    "El objeto pandas DataFrame tiene un método `plot()` que proporciona gráficos básicos de diferentes tipos, que incluyen: 'line'(línea), 'bar'(barra), 'hist', 'box'(caja), etc. También puede establecer parámetros para controlar el diseño y las etiquetas de la trama.\n",
    "\n",
    "`plot()` usa `matplotlib.pyplot` en segundo plano, lo que facilita mucho el trazado de datos en un DataFrame.\n",
    "\n",
    "Encontrarás esta página muy útil:\n",
    "https://pandas.pydata.org/pandas-docs/stable/reference/api/pandas.DataFrame.plot.html"
   ]
  },
  {
   "cell_type": "markdown",
   "metadata": {},
   "source": [
    "#### Ejemplo: Diagrama de caja en general"
   ]
  },
  {
   "cell_type": "code",
   "execution_count": null,
   "metadata": {
    "jupyter": {
     "outputs_hidden": false
    }
   },
   "outputs": [],
   "source": [
    "df.plot(kind='box')"
   ]
  },
  {
   "cell_type": "markdown",
   "metadata": {},
   "source": [
    "Las escalas de nuestros datos no se alinean particularmente bien. Entonces, por el bien de la gráfica, ignoraremos la masa corporal de los pingüinos."
   ]
  },
  {
   "cell_type": "code",
   "execution_count": null,
   "metadata": {},
   "outputs": [],
   "source": [
    "df.drop([\"body_mass_g\"], axis=1).plot(kind='box')"
   ]
  },
  {
   "cell_type": "markdown",
   "metadata": {},
   "source": [
    "#### Mejor presentación: tamaño de figura, agregar título y leyenda"
   ]
  },
  {
   "cell_type": "code",
   "execution_count": null,
   "metadata": {
    "jupyter": {
     "outputs_hidden": false
    }
   },
   "outputs": [],
   "source": [
    "df.drop([\"body_mass_g\"], axis=1).plot(kind='box', figsize=(10,8), title='Diagrama de caja de diferentes medidas de especies de pingüinos', legend=True)"
   ]
  },
  {
   "cell_type": "markdown",
   "metadata": {},
   "source": [
    "#### Haciendo subtramas"
   ]
  },
  {
   "cell_type": "code",
   "execution_count": null,
   "metadata": {
    "jupyter": {
     "outputs_hidden": false
    }
   },
   "outputs": [],
   "source": [
    "df.plot(kind='box',\n",
    "        subplots=True, layout=(2,2),\n",
    "        figsize=(10,8), title='Diagrama de caja de diferentes medidas de especies de pingüinos', legend=True)"
   ]
  },
  {
   "cell_type": "markdown",
   "metadata": {},
   "source": [
    "---\n",
    "\n",
    "<div class=\"alert alert-block alert-warning\" style=\"padding: 0px; padding-left: 20px; padding-top: 5px;\"><h2 style=\"color: #301E40\">\n",
    "Ejercicio: Compare la longitud del pico de diferentes especies de pingüinos\n",
    "</h2><br>\n",
    "</div>"
   ]
  },
  {
   "cell_type": "markdown",
   "metadata": {},
   "source": [
    "Usemos un diagrama de caja para comparar la longitud del pico de diferentes especies de pingüinos. Necesitamos que el DataFrame sea ligeramente diferente para que podamos comparar los diferentes tipos de especies de pingüinos. Nos gustaría pivotar los datos para que cada columna tenga la longitud del pico de diferentes especies de pingüinos."
   ]
  },
  {
   "cell_type": "markdown",
   "metadata": {},
   "source": [
    "####  Preparar el conjunto de datos"
   ]
  },
  {
   "cell_type": "code",
   "execution_count": null,
   "metadata": {
    "jupyter": {
     "outputs_hidden": false
    }
   },
   "outputs": [],
   "source": [
    "df_pivot = df.pivot(index=None, columns='species', values='bill_length_mm')\n",
    "# decirle al método pivot() que haga las 'species' como columnas, y usar 'bill_length_mm' como valor"
   ]
  },
  {
   "cell_type": "code",
   "execution_count": null,
   "metadata": {
    "jupyter": {
     "outputs_hidden": false
    }
   },
   "outputs": [],
   "source": [
    "df_pivot.sample(10)"
   ]
  },
  {
   "cell_type": "markdown",
   "metadata": {},
   "source": [
    "#### Diagrama de caja de df_pivot\n",
    "\n",
    "Ahora podemos usar `plot()` en `df_pivot`. Para hacer un diagrama de caja, recuerde establecer el parámetro `kind`(tipo) en 'box'(caja). También haga que la presentación sea agradable configurando un buen `figsize` y con un buen `title`. No olvides la `legend`(leyenda)."
   ]
  },
  {
   "cell_type": "code",
   "execution_count": null,
   "metadata": {
    "jupyter": {
     "outputs_hidden": false
    }
   },
   "outputs": [],
   "source": []
  },
  {
   "cell_type": "markdown",
   "metadata": {},
   "source": [
    "#### Ejercicio adicional\n",
    "\n",
    "Ponte a prueba haciendo tu propio pivote `df_pivot` en una medida diferente (por ejemplo, Body Mass). También intenta usar un histograma (hist) en lugar de un diagrama de caja. También puedes intentar hacer una trama con 3 subtramas, cada una es un histograma de un tipo de pingüino."
   ]
  },
  {
   "cell_type": "code",
   "execution_count": null,
   "metadata": {
    "jupyter": {
     "outputs_hidden": false
    }
   },
   "outputs": [],
   "source": []
  },
  {
   "cell_type": "markdown",
   "metadata": {},
   "source": [
    "Hasta ahora no estamos usando `matplotlib.pyplot` directamente. Aunque es muy conveniente usar `df.plot()`, a veces nos gustaría tener más control con lo que estamos trazando y hacer gráficos más complejos. En las siguientes secciones, usaremos `matplotlib.pyplot` (que ahora se importa como `plt`) directamente."
   ]
  },
  {
   "cell_type": "markdown",
   "metadata": {},
   "source": [
    "### Divide los datos en 3 tipos en consecuencia"
   ]
  },
  {
   "cell_type": "code",
   "execution_count": null,
   "metadata": {
    "jupyter": {
     "outputs_hidden": false
    }
   },
   "outputs": [],
   "source": [
    "df['species'].unique()"
   ]
  },
  {
   "cell_type": "code",
   "execution_count": null,
   "metadata": {
    "jupyter": {
     "outputs_hidden": false
    }
   },
   "outputs": [],
   "source": [
    "df_adelie = df[df['species'] == 'Adelie']"
   ]
  },
  {
   "cell_type": "code",
   "execution_count": null,
   "metadata": {
    "jupyter": {
     "outputs_hidden": false
    }
   },
   "outputs": [],
   "source": [
    "df_chinstrap = df[df['species'] == 'Chinstrap']"
   ]
  },
  {
   "cell_type": "code",
   "execution_count": null,
   "metadata": {
    "jupyter": {
     "outputs_hidden": false
    }
   },
   "outputs": [],
   "source": [
    "df_gentoo = df[df['species'] == 'Gentoo']"
   ]
  },
  {
   "cell_type": "markdown",
   "metadata": {},
   "source": [
    "### Ejemplo de diagrama de dispersión: diagrama sobre la longitud y el ancho del billete"
   ]
  },
  {
   "cell_type": "code",
   "execution_count": null,
   "metadata": {
    "jupyter": {
     "outputs_hidden": false
    }
   },
   "outputs": [],
   "source": [
    "plt.scatter(df_adelie['bill_length_mm'], df_adelie['bill_depth_mm'], c='r')\n",
    "plt.scatter(df_chinstrap['bill_length_mm'], df_chinstrap['bill_depth_mm'], c='g')\n",
    "plt.scatter(df_gentoo['bill_length_mm'], df_gentoo['bill_depth_mm'], c='b')"
   ]
  },
  {
   "cell_type": "markdown",
   "metadata": {},
   "source": [
    "### Mejor presentación: tamaño de figura, agregar etiquetas y leyenda"
   ]
  },
  {
   "cell_type": "code",
   "execution_count": null,
   "metadata": {
    "jupyter": {
     "outputs_hidden": false
    }
   },
   "outputs": [],
   "source": [
    "plt.figure(figsize=(10,8)) # establece el tamaño del gráfico\n",
    "\n",
    "plt.scatter(df_adelie['bill_length_mm'], df_adelie['bill_depth_mm'], c='r')\n",
    "plt.scatter(df_chinstrap['bill_length_mm'], df_chinstrap['bill_depth_mm'], c='g')\n",
    "plt.scatter(df_gentoo['bill_length_mm'], df_gentoo['bill_depth_mm'], c='b')\n",
    "\n",
    "ax = plt.gca() # el método 'gca' le dice al resto del código de utilizar el gráfico que hicimos\n",
    "\n",
    "ax.set_xlabel('Bill Length (mm)')\n",
    "ax.set_ylabel('Bill Width (mm)')\n",
    "ax.set_title('Bill Length and Width for Different Species of Penguin')\n",
    "\n",
    "ax.legend(('adelie', 'chinstrap', 'gentoo'))"
   ]
  },
  {
   "cell_type": "markdown",
   "metadata": {},
   "source": [
    "### Ejercicio de diagrama de dispersión: diagrama sobre la longitud de la aleta y la masa corporal\n",
    "\n",
    "Ahora es tu turno de hacer tu propia trama. Asegúrate de haber configurado también las etiquetas y la leyenda"
   ]
  },
  {
   "cell_type": "code",
   "execution_count": null,
   "metadata": {
    "jupyter": {
     "outputs_hidden": false
    }
   },
   "outputs": [],
   "source": []
  },
  {
   "cell_type": "markdown",
   "metadata": {},
   "source": [
    "### Ejemplo de histograma: gráfico sobre la longitud del pico"
   ]
  },
  {
   "cell_type": "code",
   "execution_count": null,
   "metadata": {
    "jupyter": {
     "outputs_hidden": false
    }
   },
   "outputs": [],
   "source": [
    "plt.figure(figsize=(10,8))\n",
    "\n",
    "plt.hist(df_adelie['bill_length_mm'], color='r', alpha=.5) # 'alpha'(alfa) establece la transparencia de la trama\n",
    "plt.hist(df_chinstrap['bill_length_mm'], color='g', alpha=.5)\n",
    "plt.hist(df_gentoo['bill_length_mm'], color='b', alpha=.5)\n",
    "\n",
    "ax = plt.gca()\n",
    "\n",
    "ax.set_xlabel('Bill Length (mm)')\n",
    "ax.set_title('Histogram of Bill Length for Different Species of Penguin')\n",
    "\n",
    "ax.legend(('adelie', 'chinstrap', 'gentoo'))"
   ]
  },
  {
   "cell_type": "markdown",
   "metadata": {},
   "source": [
    "### Ejercicio de histograma: diagrama de masa corporal\n",
    "\n",
    "Ahora es tu turno de hacer tu propia trama. Asegúrate de establecer el alfa en un valor adecuado y tenga las etiquetas y la leyenda correctas."
   ]
  },
  {
   "cell_type": "code",
   "execution_count": null,
   "metadata": {
    "jupyter": {
     "outputs_hidden": false
    }
   },
   "outputs": [],
   "source": []
  },
  {
   "cell_type": "markdown",
   "metadata": {},
   "source": [
    "### Ejemplo de creación de subtramas\n",
    "\n",
    "Hacer subtramas con solo `plt` es un poco más complicado. Se considera más avanzado y requiere cierta comprensión de cuáles son los componentes básicos en una trama. No te sienta mal si lo encuentras desafiante, siempre puedes seguir el ejemplo y probarlo para entender más lo que está pasando.\n",
    "\n",
    "El siguiente ejemplo traza el histograma de la longitud y el ancho del billete uno al lado del otro"
   ]
  },
  {
   "cell_type": "code",
   "execution_count": null,
   "metadata": {
    "jupyter": {
     "outputs_hidden": false
    }
   },
   "outputs": [],
   "source": [
    "# Primero, tenemos que decidir cuántas subtramas queremos y cómo están orientadas\n",
    "# digamos que los queremos uno al lado del otro (es decir, 1 fila 2 columnas)\n",
    "\n",
    "fig, (ax0, ax1) = plt.subplots(nrows=1, ncols=2, figsize=(15,8))\n",
    "\n",
    "# esto creará un objeto de figura (que es toda el área de la trama)\n",
    "# y 2 ejes (que son las 2 subparcelas etiquetadas ax 0 y ax1)\n",
    "\n",
    "# Ahora podemos poner parcelas en ellas en consecuencia\n",
    "\n",
    "### para ax0 ###\n",
    "\n",
    "ax0.hist(df_adelie['bill_length_mm'], color='r', alpha=.5) \n",
    "ax0.hist(df_chinstrap['bill_length_mm'], color='g', alpha=.5)\n",
    "ax0.hist(df_gentoo['bill_length_mm'], color='b', alpha=.5)\n",
    "\n",
    "ax0.set_xlabel('Longitud del billete (mm)')\n",
    "ax0.set_title('Histograma de la longitud del pico para diferentes especies de pingüinos')\n",
    "\n",
    "ax0.legend(('adelie', 'chinstrap', 'gentoo'))\n",
    "\n",
    "### para ax1 ###\n",
    "\n",
    "ax1.hist(df_adelie['bill_depth_mm'], color='r', alpha=.5) \n",
    "ax1.hist(df_chinstrap['bill_depth_mm'], color='g', alpha=.5)\n",
    "ax1.hist(df_gentoo['bill_depth_mm'], color='b', alpha=.5)\n",
    "\n",
    "ax1.set_xlabel('Ancho de la cuenta (mm)')\n",
    "ax1.set_title('Histograma del ancho del pico para diferentes especies de pingüinos')\n",
    "\n",
    "ax1.legend(('adelie', 'chinstrap', 'gentoo'))\n",
    "\n",
    "plt.show() # after building what we want for both axes, use show() method to show plots"
   ]
  },
  {
   "cell_type": "markdown",
   "metadata": {},
   "source": [
    "---\n",
    "\n",
    "<div class=\"alert alert-block alert-warning\" style=\"padding: 0px; padding-left: 20px; padding-top: 5px;\"><h2 style=\"color: #301E40\">\n",
    "Hacer ejercicio de subtramas\n",
    "</h2><br>\n",
    "</div>"
   ]
  },
  {
   "cell_type": "markdown",
   "metadata": {},
   "source": [
    "Haz 2 subtramas, una encima de la otra. Son diagramas de dispersión de la longitud de la aleta y la masa corporal (con diferentes tipos de pingüinos). Después de haberlo hecho, pruebe también con otras orientaciones y parcelas. Vea si puede hacer 4 subtramas juntas. Siempre asegúrese de que la presentación sea buena."
   ]
  },
  {
   "cell_type": "markdown",
   "metadata": {},
   "source": [
    "---\n",
    "\n",
    "<div class=\"alert alert-block alert-warning\" style=\"padding: 0px; padding-left: 20px; padding-top: 5px;\"><h2 style=\"color: #301E40\">\n",
    "¡Más matplotlib!\n",
    "</h2><br>\n",
    "</div>"
   ]
  },
  {
   "cell_type": "markdown",
   "metadata": {},
   "source": [
    "Vea más ejemplos de histograma con múltiples conjuntos de datos:\n",
    "https://matplotlib.org/gallery/statistics/histogram_multihist.html#sphx-glr-gallery-statistics-histogram-multihist-py\n",
    "\n",
    "Ejemplo: crea un histograma a partir de un diagrama de dispersión y los agrega a los lados del diagrama\n",
    "https://matplotlib.org/gallery/lines_bars_and_markers/scatter_hist.html#sphx-glr-gallery-lines-bars-and-markers-scatter-hist-py\n",
    "\n",
    "Hay mucho más que aprender sobre matplotlib. Es una biblioteca muy potente. Siempre puede aprender más mirando los ejemplos en: https://matplotlib.org/gallery/index.html\n",
    "\n",
    "Además, si está atascado, siempre consulte la documentación: https://matplotlib.org/api/_as_gen/matplotlib.pyplot.html#module-matplotlib.pyplot\n",
    "\n",
    "![](https://media0.giphy.com/media/l3nF8lOW9D0ZElDvG/200.gif)"
   ]
  }
 ],
 "metadata": {
  "kernelspec": {
   "display_name": "Python 3 (ipykernel)",
   "language": "python",
   "name": "python3"
  },
  "language_info": {
   "codemirror_mode": {
    "name": "ipython",
    "version": 3
   },
   "file_extension": ".py",
   "mimetype": "text/x-python",
   "name": "python",
   "nbconvert_exporter": "python",
   "pygments_lexer": "ipython3",
   "version": "3.11.3"
  }
 },
 "nbformat": 4,
 "nbformat_minor": 4
}
