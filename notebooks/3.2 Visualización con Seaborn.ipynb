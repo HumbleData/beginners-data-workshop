{
 "cells": [
  {
   "cell_type": "markdown",
   "metadata": {},
   "source": [
    "<div class=\"alert alert-block alert-info\" style=\"background-color: #301E40; border: 0px; -moz-border-radius: 10px; -webkit-border-radius: 10px;\">\n",
    "<br/><br/>\n",
    "<h1 style=\"font-size: 45px; color: white; align: center;\"><center>\n",
    "<img src=\"https://raw.githubusercontent.com/HumbleData/beginners-data-workshop/master/media/humble-data-logo-white-transparent.png\" width=\"250px\" /><br/><br/>\n",
    "Visualización de datos con Seaborn\n",
    "</center></h1>\n",
    "</div>"
   ]
  },
  {
   "cell_type": "markdown",
   "metadata": {},
   "source": [
    "## Acerca de Seaborn\n",
    "Seaborn es una biblioteca de visualización de datos de Python basada en matplotlib. Proporciona una interfaz de alto nivel para dibujar gráficos estadísticos atractivos e informativos, que es muy potente para visualizar datos categóricos.\n",
    "\n",
    "![](https://d1rwhvwstyk9gu.cloudfront.net/2017/07/seaburn-1.png)"
   ]
  },
  {
   "cell_type": "markdown",
   "metadata": {},
   "source": [
    "Usaremos el [Pokemon.csv](https://gist.github.com/armgilles/194bcff35001e7eb53a2a8b441e8b2c6). \n",
    "Echemos un vistazo a los datos:"
   ]
  },
  {
   "cell_type": "code",
   "execution_count": null,
   "metadata": {
    "jupyter": {
     "outputs_hidden": false
    }
   },
   "outputs": [],
   "source": [
    "import pandas as pd\n",
    "\n",
    "pokemon_df = pd.read_csv('../data/Pokemon/pokemon.csv', index_col=0)\n",
    "pokemon_df.head(10)"
   ]
  },
  {
   "cell_type": "markdown",
   "metadata": {},
   "source": [
    "---\n",
    "\n",
    "<div class=\"alert alert-block alert-warning\" style=\"padding: 0px; padding-left: 20px; padding-top: 5px;\"><h2 style=\"color: #301E40\">\n",
    "Diagramas de dispersión categóricos\n",
    "</h2><br>\n",
    "</div>"
   ]
  },
  {
   "cell_type": "markdown",
   "metadata": {},
   "source": [
    "Por ejemplo, queremos comparar el Ataque de diferentes tipos de Pokémon, para ver si algún tipo es generalmente más poderoso que los demás:"
   ]
  },
  {
   "cell_type": "code",
   "execution_count": null,
   "metadata": {
    "jupyter": {
     "outputs_hidden": false
    }
   },
   "outputs": [],
   "source": [
    "import seaborn as sns\n",
    "import matplotlib.pyplot as plt\n",
    "\n",
    "sns.catplot(x=\"Type 1\", y=\"Attack\", data=pokemon_df);"
   ]
  },
  {
   "cell_type": "markdown",
   "metadata": {},
   "source": [
    "Al importar, generalmente simplificamos 'seaborn' como 'sns'. (¡Es una referencia de [West Wing / Rob Lowe](https://es.wikipedia.org/wiki/Sam_Seaborn)!) Tenga en cuenta que también debemos importar matplotlib.pyplot porque Seaborn es una biblioteca que se encuentra encima de matplotlib. Tenemos una trama, pero se ve fea y no se puede leer, agreguemos alguna configuración para que sea más agradable."
   ]
  },
  {
   "cell_type": "markdown",
   "metadata": {},
   "source": [
    "**Intenta: agregar `aspect=2.5` como los últimos argumentos en el siguiente `sns.catplot`**"
   ]
  },
  {
   "cell_type": "code",
   "execution_count": null,
   "metadata": {
    "jupyter": {
     "outputs_hidden": false
    }
   },
   "outputs": [],
   "source": [
    "sns.catplot(x=\"Type 1\", y=\"Attack\", data=pokemon_df);"
   ]
  },
  {
   "cell_type": "markdown",
   "metadata": {},
   "source": [
    "Entonces puedes ver que al agregar 'aspect'(aspecto) hacemos que la trama sea más amplia. El ancho de la trama es igual a 'aspect * height'(aspecto * altura), por lo que al agregar 'aspect' aumentamos el ancho de la trama. Es una de las configuraciones que podemos añadir a la trama. Para ver la lista completa y sus detalles, podemos consultar la [documentación oficial](https://seaborn.pydata.org/generated/seaborn.catplot.html#seaborn.catplot) pero daremos una introducción a algunos comunes unos."
   ]
  },
  {
   "cell_type": "markdown",
   "metadata": {},
   "source": [
    "Por ejemplo, aquí vemos que hay un desplazamiento aleatorio del eje x para todos los puntos para que podamos verlos sin que los puntos se superpongan entre sí. Esto se hace mediante la configuración de 'jitter', que por defecto es True. Apaguémoslo y veamos cómo se ve:"
   ]
  },
  {
   "cell_type": "markdown",
   "metadata": {},
   "source": [
    "**Intenta: agregar `jitter=False` como los últimos argumentos en el siguiente `sns.catplot`**"
   ]
  },
  {
   "cell_type": "code",
   "execution_count": null,
   "metadata": {
    "jupyter": {
     "outputs_hidden": false
    }
   },
   "outputs": [],
   "source": [
    "sns.catplot(x=\"Type 1\", y=\"Attack\", data=pokemon_df, aspect=2.5);"
   ]
  },
  {
   "cell_type": "markdown",
   "metadata": {},
   "source": [
    "Así que ahora tenemos un gráfico en el que los puntos se alinean según sus categorías sin las compensaciones del eje x. Cuál usar depende de si la población del valor (por ejemplo, Ataque) es importante. En nuestro caso, queremos saber cómo se distribuye el Ataque en cada Tipo tanto si es bueno tener activado el 'jitter', o mejor aún si podemos distribuirlo aún más y mostrar la distribución:"
   ]
  },
  {
   "cell_type": "markdown",
   "metadata": {},
   "source": [
    "**Intenta: agregar `kind=\"swarm\"` como los últimos argumentos en el siguiente `sns.catplot`**"
   ]
  },
  {
   "cell_type": "code",
   "execution_count": null,
   "metadata": {
    "jupyter": {
     "outputs_hidden": false
    }
   },
   "outputs": [],
   "source": [
    "sns.catplot(x=\"Type 1\", y=\"Attack\", data=pokemon_df, aspect=2.5);"
   ]
  },
  {
   "cell_type": "markdown",
   "metadata": {},
   "source": [
    "Aquí podemos hacerlo configurando 'kind'(tipo) en 'swarm'(enjambre) para que los puntos no se superpongan. La desventaja es que esta estratagema necesitará más espacio horizontalmente. Imagina que no queremos que la trama sea muy ancha debido a la limitación del papel. Podemos girarlo 90 grados girando la x y la y, también ajustaríamos el aspecto y la altura:"
   ]
  },
  {
   "cell_type": "markdown",
   "metadata": {},
   "source": [
    "**Intenta: intercambie `x` e `y`, y agregue `height=12, aspect=0.6, kind=\"swarm\"` en los argumentos del siguiente `sns.catplot`**"
   ]
  },
  {
   "cell_type": "code",
   "execution_count": null,
   "metadata": {
    "jupyter": {
     "outputs_hidden": false
    }
   },
   "outputs": [],
   "source": [
    "sns.catplot(x=\"Type 1\", y=\"Attack\", data=pokemon_df);"
   ]
  },
  {
   "cell_type": "markdown",
   "metadata": {},
   "source": [
    "Hay algunas cosas que podemos observar hasta ahora:\n",
    "\n",
    "1. Para algunos Tipos, como \"Psychic\", tiene un rango de Ataque muy amplio con una cola larga al final (es decir, algunos Tipos Físicos tienen un poder de Ataque muy alto, mientras que la mayoría de los Tipos Psíquicos no lo tienen).\n",
    "\n",
    "2. Por otro lado, los de tipo Veneno están mayormente en el rango de 40-110 Ataques.\n",
    "\n",
    "3. En general, los tipos de dragón tienen más poder de ataque que las hadas, pero hay 2 tipos de hadas que tienen más poder de ataque."
   ]
  },
  {
   "cell_type": "markdown",
   "metadata": {},
   "source": [
    "Sin embargo, nos gustaría profundizar más: tengo la teoría de que los Pokémon legendarios son más poderosos. vamos a codificar por colores según 'Legendary' para ver si el pokemon es Legendario o no tendrá algo que ver con el Ataque del pokemon:"
   ]
  },
  {
   "cell_type": "markdown",
   "metadata": {},
   "source": [
    "**Intenta: agregar `hue=\"Legendary\"` como los últimos argumentos en el siguiente `sns.catplot`**"
   ]
  },
  {
   "cell_type": "code",
   "execution_count": null,
   "metadata": {
    "jupyter": {
     "outputs_hidden": false
    }
   },
   "outputs": [],
   "source": [
    "plt.figure(figsize=(15, 6))\n",
    "sns.stripplot(x=\"Type 1\", y=\"Attack\", data=pokemon_df, size=7)"
   ]
  },
  {
   "cell_type": "markdown",
   "metadata": {},
   "source": [
    "¡Ajá! Vemos que muchos de los Tipos Psíquicos que tienen un Ataque más alto que otros son en realidad Pokémon Legendarios. Eso también sucede con el Tipo Tierra y el tipo Volador."
   ]
  },
  {
   "cell_type": "markdown",
   "metadata": {},
   "source": [
    "### Ejercicio\n",
    "Ahora es tu turno de hacer un poco de análisis. Elige una propiedad del Pokémon: HP, Defense, Sp. atk, esp. Def o Speed y haz un análisis similar al anterior para ver si puedes encontrar datos interesantes sobre Pokémon."
   ]
  },
  {
   "cell_type": "markdown",
   "metadata": {},
   "source": [
    "---\n",
    "\n",
    "<div class=\"alert alert-block alert-warning\" style=\"padding: 0px; padding-left: 20px; padding-top: 5px;\"><h2 style=\"color: #301E40\">\n",
    "Construcción de cuadrículas estructuradas de múltiples parcelas\n",
    "</h2><br>\n",
    "</div>"
   ]
  },
  {
   "cell_type": "markdown",
   "metadata": {},
   "source": [
    "A veces, tendríamos varias parcelas en un gráfico para comparar. Una forma de hacerlo en seaborn es usar FacetGrid. La clase FacetGrid es útil cuando desea visualizar la distribución de una variable o la relación entre múltiples variables por separado dentro de subconjuntos de su conjunto de datos. A continuación, usaremos FacetGrid para ver si hay alguna diferencia en nuestro análisis anterior entre diferentes generaciones."
   ]
  },
  {
   "cell_type": "markdown",
   "metadata": {},
   "source": [
    "Para hacer un FacetGrid, podemos hacer lo siguiente:"
   ]
  },
  {
   "cell_type": "code",
   "execution_count": null,
   "metadata": {
    "jupyter": {
     "outputs_hidden": false
    }
   },
   "outputs": [],
   "source": [
    "g = sns.FacetGrid(pokemon_df, col=\"Generation\")"
   ]
  },
  {
   "cell_type": "markdown",
   "metadata": {},
   "source": [
    "Mira, tenemos 6 áreas de parcela que coinciden con el número de generaciones diferentes que tenemos.\n",
    "(podemos comprobar cuáles son las diferentes Generaciones así):"
   ]
  },
  {
   "cell_type": "code",
   "execution_count": null,
   "metadata": {
    "jupyter": {
     "outputs_hidden": false
    }
   },
   "outputs": [],
   "source": [
    "pokemon_df[\"Generation\"].unique()"
   ]
  },
  {
   "cell_type": "markdown",
   "metadata": {},
   "source": [
    "Sin embargo, nos gustaría que los gráficos se alinearan verticalmente en lugar de horizontalmente."
   ]
  },
  {
   "cell_type": "markdown",
   "metadata": {},
   "source": [
    "**Intenta: reemplace `col` con `row` en el siguiente `sns.FacetGrid`**"
   ]
  },
  {
   "cell_type": "code",
   "execution_count": null,
   "metadata": {
    "jupyter": {
     "outputs_hidden": false
    }
   },
   "outputs": [],
   "source": [
    "g = sns.FacetGrid(pokemon_df, col=\"Generation\")"
   ]
  },
  {
   "cell_type": "markdown",
   "metadata": {},
   "source": [
    "Ok, ahora que tenemos el diseño, ¿cómo vamos a poner la trama? Para algunas gráficas, podría hacerse con el método [FacetGrid.map()](https://seaborn.pydata.org/generated/seaborn.FacetGrid.map.html#seaborn.FacetGrid.map), por ejemplo, usando `sns.countplot` para contar cuántos Pokémon en diferentes tipos:"
   ]
  },
  {
   "cell_type": "code",
   "execution_count": null,
   "metadata": {
    "jupyter": {
     "outputs_hidden": false
    }
   },
   "outputs": [],
   "source": [
    "g = sns.FacetGrid(pokemon_df, row=\"Generation\", aspect=3.5)\n",
    "g.map(sns.countplot, \"Type 1\");"
   ]
  },
  {
   "cell_type": "markdown",
   "metadata": {},
   "source": [
    "Pero con `sns.catplot` que usamos antes, esto es aún más simple. Como catplot ya es un FacetGrid, podemos agregarle directamente la configuración `row` o `col`."
   ]
  },
  {
   "cell_type": "markdown",
   "metadata": {},
   "source": [
    "**Intenta: agregar `row=\"Generation\"` como los últimos argumentos en el siguiente `sns.catplot`**"
   ]
  },
  {
   "cell_type": "code",
   "execution_count": null,
   "metadata": {
    "jupyter": {
     "outputs_hidden": false
    }
   },
   "outputs": [],
   "source": [
    "plt.figure(figsize=(15, 6))\n",
    "sns.stripplot(x=\"Type 1\", y=\"Attack\", data=pokemon_df, size=7, hue=\"Legendary\")"
   ]
  },
  {
   "cell_type": "markdown",
   "metadata": {},
   "source": [
    "Ahora ves que en cada generación, los Pokémon legendarios son atípicos con superpoderes de ataque en comparación con los demás dentro de su propia generación. Para obtener detalles sobre el uso de FacetGrids, puede consultar la documentación oficial aquí: https://seaborn.pydata.org/tutorial/axis_grids.html"
   ]
  }
 ],
 "metadata": {
  "kernelspec": {
   "display_name": "Python 3 (ipykernel)",
   "language": "python",
   "name": "python3"
  },
  "language_info": {
   "codemirror_mode": {
    "name": "ipython",
    "version": 3
   },
   "file_extension": ".py",
   "mimetype": "text/x-python",
   "name": "python",
   "nbconvert_exporter": "python",
   "pygments_lexer": "ipython3",
   "version": "3.11.3"
  }
 },
 "nbformat": 4,
 "nbformat_minor": 4
}
