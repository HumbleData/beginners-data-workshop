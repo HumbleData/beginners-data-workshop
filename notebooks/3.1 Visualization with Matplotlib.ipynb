{
 "cells": [
  {
   "cell_type": "markdown",
   "metadata": {},
   "source": [
    "![](https://matplotlib.org/_static/logo2_compressed.svg)"
   ]
  },
  {
   "cell_type": "markdown",
   "metadata": {},
   "source": [
    "### Import pyplot in Matplotlib (and pandas)\n",
    "\n",
    "According to the [official documentation](https://matplotlib.org/gallery/index.html):\n",
    "\n",
    "`matplotlib.pyplot` is a collection of command style functions that make Matplotlib work like MATLAB. Each pyplot function makes some change to a figure: e.g., creates a figure, creates a plotting area in a figure, plots some lines in a plotting area, decorates the plot with labels, etc.\n",
    "\n",
    "`pyplot` is mainly intended for interactive plots and simple cases of programmatic plot generation."
   ]
  },
  {
   "cell_type": "markdown",
   "metadata": {},
   "source": [
    "![](https://miro.medium.com/max/2000/1*swPzVFGpYdijWAmbrydCDw.png)"
   ]
  },
  {
   "cell_type": "code",
   "execution_count": null,
   "metadata": {
    "collapsed": false,
    "jupyter": {
     "outputs_hidden": false
    }
   },
   "outputs": [],
   "source": [
    "%matplotlib inline\n",
    "# this is for ipython interpreter to show the plot in jupyter notebook\n",
    "\n",
    "import pandas as pd\n",
    "import matplotlib.pyplot as plt"
   ]
  },
  {
   "cell_type": "markdown",
   "metadata": {},
   "source": [
    "### Import the dataframe again, read it into a Panda's DataFrame and assign it to df."
   ]
  },
  {
   "cell_type": "code",
   "execution_count": null,
   "metadata": {
    "collapsed": false,
    "jupyter": {
     "outputs_hidden": false
    }
   },
   "outputs": [],
   "source": [
    "df = pd.read_csv('../data/Iris/Iris.csv', index_col=0)"
   ]
  },
  {
   "cell_type": "markdown",
   "metadata": {},
   "source": [
    "### Refresh our memory about how the data looks like"
   ]
  },
  {
   "cell_type": "code",
   "execution_count": null,
   "metadata": {
    "collapsed": false,
    "jupyter": {
     "outputs_hidden": false
    }
   },
   "outputs": [],
   "source": [
    "df.head()"
   ]
  },
  {
   "cell_type": "markdown",
   "metadata": {},
   "source": [
    "### Using DataFrame.plot() in pandas\n",
    "\n",
    "pandas DataFrame object has a `plot()` method which provide basic plot of different kinds, including: 'line', 'bar', 'hist', 'box' etc. You can also set parameters to control the layout and labels of the plot.\n",
    "\n",
    "`plot()` uses `matplotlib.pyplot` in the background which makes plotting data in a DataFrame much easier \n",
    "\n",
    "You will find this page very helpful:\n",
    "https://pandas.pydata.org/pandas-docs/stable/reference/api/pandas.DataFrame.plot.html"
   ]
  },
  {
   "cell_type": "markdown",
   "metadata": {},
   "source": [
    "#### Example: Box plot in general"
   ]
  },
  {
   "cell_type": "code",
   "execution_count": null,
   "metadata": {
    "collapsed": false,
    "jupyter": {
     "outputs_hidden": false
    }
   },
   "outputs": [],
   "source": [
    "df.plot(kind='box')"
   ]
  },
  {
   "cell_type": "markdown",
   "metadata": {},
   "source": [
    "#### Better presentation: figure size, add title and legend"
   ]
  },
  {
   "cell_type": "code",
   "execution_count": null,
   "metadata": {
    "collapsed": false,
    "jupyter": {
     "outputs_hidden": false
    }
   },
   "outputs": [],
   "source": [
    "df.plot(kind='box', figsize=(10,8), title='Box plot of different measurements of iris', legend=True)"
   ]
  },
  {
   "cell_type": "markdown",
   "metadata": {},
   "source": [
    "#### Making subplots"
   ]
  },
  {
   "cell_type": "code",
   "execution_count": null,
   "metadata": {
    "collapsed": false,
    "jupyter": {
     "outputs_hidden": false
    }
   },
   "outputs": [],
   "source": [
    "df.plot(kind='box',\n",
    "        subplots=True, layout=(2,2),\n",
    "        figsize=(10,8), title='Box plot of different measurements of iris', legend=True)"
   ]
  },
  {
   "cell_type": "markdown",
   "metadata": {},
   "source": [
    "### Exercise: Compare sepal length of different iris\n",
    "\n",
    "Let's use box plot to compare the sepal length of different iris. We need the DataFrame to be slightly different so we can compare the different type iris. We would like to pivot the data so each column are sepal length of different iris."
   ]
  },
  {
   "cell_type": "markdown",
   "metadata": {},
   "source": [
    "####  Prepare the data set"
   ]
  },
  {
   "cell_type": "code",
   "execution_count": null,
   "metadata": {
    "collapsed": false,
    "jupyter": {
     "outputs_hidden": false
    }
   },
   "outputs": [],
   "source": [
    "df_pivot = df.pivot(index=None, columns='Species', values='SepalLengthCm')\n",
    "# tell the pivot() method to make the 'Species' as columns, and using the 'SepalLengthCm' as the value"
   ]
  },
  {
   "cell_type": "code",
   "execution_count": null,
   "metadata": {
    "collapsed": false,
    "jupyter": {
     "outputs_hidden": false
    }
   },
   "outputs": [],
   "source": [
    "df_pivot.head()"
   ]
  },
  {
   "cell_type": "markdown",
   "metadata": {},
   "source": [
    "#### Box plot of df_pivot\n",
    "\n",
    "Now we can use `plot()` on `df_pivot`. To make a box plot, remember to set the parameter `kind` to 'box'. Also make the presentation nice by setting a good `figsize` and with a good `title`. Don't forget the `legend`."
   ]
  },
  {
   "cell_type": "code",
   "execution_count": null,
   "metadata": {
    "collapsed": false,
    "jupyter": {
     "outputs_hidden": false
    }
   },
   "outputs": [],
   "source": []
  },
  {
   "cell_type": "markdown",
   "metadata": {},
   "source": [
    "#### Additional exercise\n",
    "\n",
    "Challenge yourself by making your own `df_pivot` pivoting on a different measure (e.g. Petal Width). Also try using a histogram (hist) instead of a boxplot. You can also try making a plot with 3 subplots, each is a histogram of a type of iris."
   ]
  },
  {
   "cell_type": "code",
   "execution_count": null,
   "metadata": {
    "collapsed": false,
    "jupyter": {
     "outputs_hidden": false
    }
   },
   "outputs": [],
   "source": []
  },
  {
   "cell_type": "markdown",
   "metadata": {},
   "source": [
    "So far we are not using `matplotlib.pyplot` directly. Although it is very convenient to use `df.plot()`, sometimes we would like to have more control with what we are plotting and make more complex graphs. In the following sections, we will use `matplotlib.pyplot` (which is imported as `plt` now) directly."
   ]
  },
  {
   "cell_type": "markdown",
   "metadata": {},
   "source": [
    "### Divide the data into 3 types accordingly"
   ]
  },
  {
   "cell_type": "code",
   "execution_count": null,
   "metadata": {
    "collapsed": false,
    "jupyter": {
     "outputs_hidden": false
    }
   },
   "outputs": [],
   "source": [
    "df['Species'].unique()"
   ]
  },
  {
   "cell_type": "code",
   "execution_count": null,
   "metadata": {
    "collapsed": false,
    "jupyter": {
     "outputs_hidden": false
    }
   },
   "outputs": [],
   "source": [
    "df_setosa = df[df['Species'] == 'Iris-setosa']"
   ]
  },
  {
   "cell_type": "code",
   "execution_count": null,
   "metadata": {
    "collapsed": false,
    "jupyter": {
     "outputs_hidden": false
    }
   },
   "outputs": [],
   "source": [
    "df_versicolor = df[df['Species'] == 'Iris-versicolor']"
   ]
  },
  {
   "cell_type": "code",
   "execution_count": null,
   "metadata": {
    "collapsed": false,
    "jupyter": {
     "outputs_hidden": false
    }
   },
   "outputs": [],
   "source": [
    "df_virginica = df[df['Species'] == 'Iris-virginica']"
   ]
  },
  {
   "cell_type": "markdown",
   "metadata": {},
   "source": [
    "### Scatter plot example: plot on Sepal Length and Width"
   ]
  },
  {
   "cell_type": "code",
   "execution_count": null,
   "metadata": {
    "collapsed": false,
    "jupyter": {
     "outputs_hidden": false
    }
   },
   "outputs": [],
   "source": [
    "plt.scatter(df_setosa['SepalLengthCm'], df_setosa['SepalWidthCm'], c='r')\n",
    "plt.scatter(df_versicolor['SepalLengthCm'], df_versicolor['SepalWidthCm'], c='g')\n",
    "plt.scatter(df_virginica['SepalLengthCm'], df_virginica['SepalWidthCm'], c='b')"
   ]
  },
  {
   "cell_type": "markdown",
   "metadata": {},
   "source": [
    "#### Better presentation: figure size, add labels and legend"
   ]
  },
  {
   "cell_type": "code",
   "execution_count": null,
   "metadata": {
    "collapsed": false,
    "jupyter": {
     "outputs_hidden": false
    }
   },
   "outputs": [],
   "source": [
    "plt.figure(figsize=(10,8)) # set the size of the plot\n",
    "\n",
    "plt.scatter(df_setosa['SepalLengthCm'], df_setosa['SepalWidthCm'], c='r')\n",
    "plt.scatter(df_versicolor['SepalLengthCm'], df_versicolor['SepalWidthCm'], c='g')\n",
    "plt.scatter(df_virginica['SepalLengthCm'], df_virginica['SepalWidthCm'], c='b')\n",
    "\n",
    "ax = plt.gca() #gca method tell the rest of the code to reference the plot we made\n",
    "\n",
    "ax.set_xlabel('Sepal Length (cm)')\n",
    "ax.set_ylabel('Sepal Width (cm)')\n",
    "ax.set_title('Sepal Length and Width for Different Iris')\n",
    "\n",
    "ax.legend(('setosa', 'versicolor', 'virginica'))"
   ]
  },
  {
   "cell_type": "markdown",
   "metadata": {},
   "source": [
    "### Scatter plot exercise: plot on Petal Length and Width\n",
    "\n",
    "Now is your turn to make your own plot. Make sure you have also set the labels and legend"
   ]
  },
  {
   "cell_type": "code",
   "execution_count": null,
   "metadata": {
    "collapsed": false,
    "jupyter": {
     "outputs_hidden": false
    }
   },
   "outputs": [],
   "source": []
  },
  {
   "cell_type": "markdown",
   "metadata": {},
   "source": [
    "### Histogram example: plot on Sepal Length"
   ]
  },
  {
   "cell_type": "code",
   "execution_count": null,
   "metadata": {
    "collapsed": false,
    "jupyter": {
     "outputs_hidden": false
    }
   },
   "outputs": [],
   "source": [
    "plt.figure(figsize=(10,8))\n",
    "\n",
    "plt.hist(df_setosa['SepalLengthCm'], color='r', alpha=.5) # alpha set the transperancy of the plot\n",
    "plt.hist(df_versicolor['SepalLengthCm'], color='g', alpha=.5)\n",
    "plt.hist(df_virginica['SepalLengthCm'], color='b', alpha=.5)\n",
    "\n",
    "ax = plt.gca()\n",
    "\n",
    "ax.set_xlabel('Sepal Length (cm)')\n",
    "ax.set_title('Histrogram of Sepal Length for Different Iris')\n",
    "\n",
    "ax.legend(('setosa', 'versicolor', 'virginica'))"
   ]
  },
  {
   "cell_type": "markdown",
   "metadata": {},
   "source": [
    "### Histogram exercise: plot on Petal Width\n",
    "\n",
    "Now is your turn to make your own plot. Make sure you set the alpha to a proper value and have the right the labels and legend."
   ]
  },
  {
   "cell_type": "code",
   "execution_count": null,
   "metadata": {
    "collapsed": false,
    "jupyter": {
     "outputs_hidden": false
    }
   },
   "outputs": [],
   "source": []
  },
  {
   "cell_type": "markdown",
   "metadata": {},
   "source": [
    "### Making subplots example\n",
    "\n",
    "To make subplots with just `plt` is a bit more complicated. It is considered more advance and require some understanding of what the building blocks are in a plot. Don't feel bad if you find it challenging, you can always follow the example and try it yourself to understand more what is going on.\n",
    "\n",
    "The example below plot the histrogram of Sepal Length and Sepal Width side by side"
   ]
  },
  {
   "cell_type": "code",
   "execution_count": null,
   "metadata": {
    "collapsed": false,
    "jupyter": {
     "outputs_hidden": false
    }
   },
   "outputs": [],
   "source": [
    "# First, we have to decide how many subplots we want and how they are orientated\n",
    "# say we want them side by side (i.e. 1 row 2 columns)\n",
    "\n",
    "fig, (ax0, ax1) = plt.subplots(nrows=1, ncols=2, figsize=(15,8))\n",
    "\n",
    "# this will create a figure object (which is the whole plot area)\n",
    "# and 2 axes (which are the 2 subplots labeled ax0 and ax1)\n",
    "\n",
    "# Now we can put plots in them accordingly\n",
    "\n",
    "### for ax0 ###\n",
    "\n",
    "ax0.hist(df_setosa['SepalLengthCm'], color='r', alpha=.5) \n",
    "ax0.hist(df_versicolor['SepalLengthCm'], color='g', alpha=.5)\n",
    "ax0.hist(df_virginica['SepalLengthCm'], color='b', alpha=.5)\n",
    "\n",
    "ax0.set_xlabel('Sepal Length (cm)')\n",
    "ax0.set_title('Histrogram of Sepal Length for Different Iris')\n",
    "\n",
    "ax0.legend(('setosa', 'versicolor', 'virginica'))\n",
    "\n",
    "### for ax1 ###\n",
    "\n",
    "ax1.hist(df_setosa['SepalWidthCm'], color='r', alpha=.5) \n",
    "ax1.hist(df_versicolor['SepalWidthCm'], color='g', alpha=.5)\n",
    "ax1.hist(df_virginica['SepalWidthCm'], color='b', alpha=.5)\n",
    "\n",
    "ax1.set_xlabel('Sepal Width (cm)')\n",
    "ax1.set_title('Histrogram of Sepal Width for Different Iris')\n",
    "\n",
    "ax1.legend(('setosa', 'versicolor', 'virginica'))\n",
    "\n",
    "plt.show() # after building what we want for both axes, use show() method to show plots"
   ]
  },
  {
   "cell_type": "markdown",
   "metadata": {},
   "source": [
    "### Making subplots exercise\n",
    "\n",
    "Make 2 subplots, one on top of another. They are scatter plots of Petal Length and Petal Width (with different type of iris). After you have done it, try also other orientation and plots. See if you can make 4 subplots together. Always make sure the presentation is good."
   ]
  },
  {
   "cell_type": "markdown",
   "metadata": {},
   "source": [
    "---\n",
    "## More matplotlib!\n",
    "\n",
    "Check out more example of histogram with multiple data sets: https://matplotlib.org/gallery/statistics/histogram_multihist.html#sphx-glr-gallery-statistics-histogram-multihist-py\n",
    "\n",
    "Example: Creates histogram from scatter plot and adds them to the sides of the plot\n",
    "https://matplotlib.org/gallery/lines_bars_and_markers/scatter_hist.html#sphx-glr-gallery-lines-bars-and-markers-scatter-hist-py\n",
    "\n",
    "There are a lot more to learn about matplotlib. It is a very powerful library. You can always learn more by looking at the examples at: https://matplotlib.org/gallery/index.html\n",
    "\n",
    "Also, if you are stuck, always check the documentation: https://matplotlib.org/api/_as_gen/matplotlib.pyplot.html#module-matplotlib.pyplot\n",
    "\n",
    "![](https://media0.giphy.com/media/l3nF8lOW9D0ZElDvG/200.gif)"
   ]
  }
 ],
 "metadata": {
  "kernelspec": {
   "display_name": "Python 3",
   "language": "python",
   "name": "python3"
  },
  "language_info": {
   "codemirror_mode": {
    "name": "ipython",
    "version": 3
   },
   "file_extension": ".py",
   "mimetype": "text/x-python",
   "name": "python",
   "nbconvert_exporter": "python",
   "pygments_lexer": "ipython3",
   "version": "3.7.7"
  }
 },
 "nbformat": 4,
 "nbformat_minor": 4
}
