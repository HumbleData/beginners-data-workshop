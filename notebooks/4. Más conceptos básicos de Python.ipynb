{
 "cells": [
  {
   "cell_type": "markdown",
   "metadata": {},
   "source": [
    "<div class=\"alert alert-block alert-info\" style=\"background-color: #301E40; border: 0px; -moz-border-radius: 10px; -webkit-border-radius: 10px;\">\n",
    "<br/><br/>\n",
    "<h1 style=\"font-size: 45px; color: white; align: center;\"><center>\n",
    "<img src=\"https://raw.githubusercontent.com/HumbleData/beginners-data-workshop/master/media/humble-data-logo-white-transparent.png\" width=\"250px\" /><br/><br/>\n",
    "Más Python\n",
    "</center></h1>\n",
    "</div>"
   ]
  },
  {
   "cell_type": "markdown",
   "metadata": {},
   "source": [
    "***Nota***: este *notebook* contiene celdas con ***una*** solución. ¡Recuerda que puede haber más de una solución a un problema de programación!\n",
    "Reconocerás estas celdas ya que comienzan con\n",
    "```\n",
    "# %\n",
    "```\n",
    "\n",
    "Si deseas ver la solución, deberás eliminar el `#` usando **Ctrl + /** (Windows) o **Cmd + /** (macOS) y luego ejecutar la celda. Si deseas ejecutar el código de la solución, deberás ejecutar la celda nuevamente."
   ]
  },
  {
   "cell_type": "markdown",
   "metadata": {},
   "source": [
    "---\n",
    "\n",
    "<div class=\"alert alert-block alert-warning\" style=\"padding: 0px; padding-left: 20px; padding-top: 5px;\"><h2 style=\"color: #301E40\">\n",
    "Diccionarios\n",
    "</h2><br>\n",
    "</div>"
   ]
  },
  {
   "cell_type": "markdown",
   "metadata": {},
   "source": [
    "**Un diccionario está formado por pares de clave de valor, separados por comas, encerrados entre corchetes ({}).\n",
    "La clave y el valor están separados por una columna ( : ), es decir, clave:valor.**"
   ]
  },
  {
   "cell_type": "code",
   "execution_count": null,
   "metadata": {},
   "outputs": [],
   "source": [
    "dict_greeting = {'Germany':'Hallo', 'France':'Bonjour', 'Spain':'Hola', 'UK':'Hello', 'Italy':'Ciao'}"
   ]
  },
  {
   "cell_type": "code",
   "execution_count": null,
   "metadata": {},
   "outputs": [],
   "source": [
    "dict_greeting   # no hay orden en un diccionario"
   ]
  },
  {
   "cell_type": "markdown",
   "metadata": {},
   "source": [
    "**Podemos acceder a los valores usando las claves entre corchetes.**  \n",
    ">Obtenga el saludo de Italia (utilice corchetes)."
   ]
  },
  {
   "cell_type": "code",
   "execution_count": null,
   "metadata": {},
   "outputs": [],
   "source": []
  },
  {
   "cell_type": "code",
   "execution_count": null,
   "metadata": {},
   "outputs": [],
   "source": [
    "# %load ../solutions/04_01.py"
   ]
  },
  {
   "cell_type": "markdown",
   "metadata": {},
   "source": [
    "**Las claves son inmutables (es decir, no se pueden cambiar), pero los valores se pueden actualizar.**  \n",
    ">Reemplaza el saludo del Reino Unido con 'Good Morning'.  \n",
    ">Imprime el diccionario."
   ]
  },
  {
   "cell_type": "code",
   "execution_count": null,
   "metadata": {},
   "outputs": [],
   "source": []
  },
  {
   "cell_type": "code",
   "execution_count": null,
   "metadata": {},
   "outputs": [],
   "source": [
    "# %load ../solutions/04_02.py"
   ]
  },
  {
   "cell_type": "markdown",
   "metadata": {},
   "source": [
    "**También podemos agregar nuevos pares clave-valor.**  \n",
    ">Agrega el saludo de 'Hawaii' como 'Aloha'"
   ]
  },
  {
   "cell_type": "code",
   "execution_count": null,
   "metadata": {},
   "outputs": [],
   "source": []
  },
  {
   "cell_type": "code",
   "execution_count": null,
   "metadata": {},
   "outputs": [],
   "source": [
    "# %load ../solutions/04_03.py"
   ]
  },
  {
   "cell_type": "markdown",
   "metadata": {},
   "source": [
    "---\n",
    "\n",
    "<div class=\"alert alert-block alert-warning\" style=\"padding: 0px; padding-left: 20px; padding-top: 5px;\"><h2 style=\"color: #301E40\">\n",
    "Conjuntos\n",
    "</h2><br>\n",
    "</div>"
   ]
  },
  {
   "cell_type": "markdown",
   "metadata": {},
   "source": [
    "**Un conjunto es una colección de elementos únicos, desordenados y no indexados.**"
   ]
  },
  {
   "cell_type": "code",
   "execution_count": null,
   "metadata": {},
   "outputs": [],
   "source": [
    "important_set = set(['me','myself', 'me', 'I'])\n",
    "important_set"
   ]
  },
  {
   "cell_type": "markdown",
   "metadata": {},
   "source": [
    "Podemos agregar un artículo a un conjunto usando el método ***add***..."
   ]
  },
  {
   "cell_type": "code",
   "execution_count": null,
   "metadata": {},
   "outputs": [],
   "source": [
    "important_set.add('you')\n",
    "important_set"
   ]
  },
  {
   "cell_type": "markdown",
   "metadata": {},
   "source": [
    "...o varios elementos con el método ***update*** (actualizar)."
   ]
  },
  {
   "cell_type": "code",
   "execution_count": null,
   "metadata": {},
   "outputs": [],
   "source": [
    "other_set = {'me', 'all of you', 'other people'}\n",
    "important_set.update(other_set)\n",
    "important_set"
   ]
  },
  {
   "cell_type": "markdown",
   "metadata": {},
   "source": [
    "Puede encontrar los métodos para establecer [aquí](https://docs.python.org/es/3/library/stdtypes.html#set-types-set-frozenset).\n",
    "Por ejemplo, puede obtener la intersección de dos conjuntos."
   ]
  },
  {
   "cell_type": "code",
   "execution_count": null,
   "metadata": {},
   "outputs": [],
   "source": [
    "set_1 = {3, 6, 9, 12, 15, 18, 21, 24, 27, 30}\n",
    "set_2 = {5, 10, 15, 20, 25, 30}\n",
    "set_3 = set_1.intersection(set_2)\n",
    "set_3"
   ]
  },
  {
   "cell_type": "markdown",
   "metadata": {},
   "source": [
    "---\n",
    "\n",
    "<div class=\"alert alert-block alert-warning\" style=\"padding: 0px; padding-left: 20px; padding-top: 5px;\"><h2 style=\"color: #301E40\">\n",
    "If - Elif - Else\n",
    "</h2><br>\n",
    "</div>"
   ]
  },
  {
   "cell_type": "markdown",
   "metadata": {},
   "source": [
    "\n",
    "Escribamos un programa corto con una declaración ***if*** para ayudarnos a decidir si un nombre es largo o no (6 es completamente arbitrario ;-)).\n",
    "Tenemos que respetar los bloques de códigos/sangría/indentación."
   ]
  },
  {
   "cell_type": "code",
   "execution_count": null,
   "metadata": {},
   "outputs": [],
   "source": [
    "name = input('What is your name? ')\n",
    "\n",
    "if len(name) > 6:\n",
    "    print('You have a long name.')\n",
    "else:\n",
    "    print('You have a short name.')"
   ]
  },
  {
   "cell_type": "markdown",
   "metadata": {},
   "source": [
    ">Escribe una instrucción ***If - Elif - Else*** que imprima 'Python' si x es positivo, de lo contrario si es igual a 2 que imprima 'sunshine', de lo contrario si z es un múltiplo de 3 que imprima 'data', y de lo contrario que imprima '¿Por qué?'.\n",
    "Puedes probarlo con diferentes valores de x, y y z."
   ]
  },
  {
   "cell_type": "code",
   "execution_count": null,
   "metadata": {},
   "outputs": [],
   "source": [
    "x=\n",
    "y=\n",
    "z=\n",
    "\n",
    "if\n",
    "\n"
   ]
  },
  {
   "cell_type": "code",
   "execution_count": null,
   "metadata": {},
   "outputs": [],
   "source": [
    "# %load ../solutions/04_04.py"
   ]
  },
  {
   "cell_type": "markdown",
   "metadata": {},
   "source": [
    "---\n",
    "\n",
    "<div class=\"alert alert-block alert-warning\" style=\"padding: 0px; padding-left: 20px; padding-top: 5px;\"><h2 style=\"color: #301E40\">\n",
    "Usar \"and\" para verificar \"None\" (Ninguno)\n",
    "</h2><br>\n",
    "</div>"
   ]
  },
  {
   "cell_type": "markdown",
   "metadata": {},
   "source": [
    "A veces nos faltan datos (que son `None` o `np.nan`) y causarán un error en la condición de verificación. p.ej. edad > 18 (mientras falta la edad o NaN) Sin embargo, hay un truco. Dado que en la operación `and`, el segundo argumento no se verificará si el primero es falso (el resultado será falso de todos modos), por lo que al verificar si el primer argumento es válido o no, podemos evitar el error. Por ejemplo:"
   ]
  },
  {
   "cell_type": "code",
   "execution_count": null,
   "metadata": {},
   "outputs": [],
   "source": [
    "age = None\n",
    "age > 18 # obtendrás un error"
   ]
  },
  {
   "cell_type": "code",
   "execution_count": null,
   "metadata": {},
   "outputs": [],
   "source": [
    "age = None\n",
    "(age is not None) and (age > 18) # ningún error"
   ]
  },
  {
   "cell_type": "markdown",
   "metadata": {},
   "source": [
    "La ventaja de hacerlo de esta manera es que tendremos un código más simple y una estructura `if` menos sangrada"
   ]
  },
  {
   "cell_type": "code",
   "execution_count": null,
   "metadata": {},
   "outputs": [],
   "source": [
    "if age is not None:\n",
    "    if age > 18:\n",
    "        print(\"have beer\")\n",
    "        \n",
    "# lo cual no es tan bueno como:\n",
    "\n",
    "if (age is not None) and (age > 18):\n",
    "    print(\"have beer\")"
   ]
  },
  {
   "cell_type": "markdown",
   "metadata": {},
   "source": [
    "---\n",
    "\n",
    "<div class=\"alert alert-block alert-warning\" style=\"padding: 0px; padding-left: 20px; padding-top: 5px;\"><h2 style=\"color: #301E40\">\n",
    "Funciones\n",
    "</h2><br>\n",
    "</div>"
   ]
  },
  {
   "cell_type": "markdown",
   "metadata": {},
   "source": [
    "**Podemos definir nuestras propias funciones con la palabra clave \"def\" seguida del nombre de la función y entre paréntesis con los parámetros dentro.**  \n",
    "\n",
    "Usando la lista **list_greeting**, podemos definir una función **is_greeting** que decidirá si una cadena es un saludo o no."
   ]
  },
  {
   "cell_type": "code",
   "execution_count": null,
   "metadata": {},
   "outputs": [],
   "source": [
    "list_greeting = ['Hallo', 'Bonjour', 'Hola', 'Hello', 'Ciao', 'Aloha']\n",
    "\n",
    "def is_greeting(s):\n",
    "    \"\"\"Devuelve True si s está en list_greeting, de lo contrario False.\"\"\"\n",
    "    if s in list_greeting:\n",
    "        return True\n",
    "    else:\n",
    "        return False "
   ]
  },
  {
   "cell_type": "markdown",
   "metadata": {},
   "source": [
    "Ahora podemos comprobar si **Bonjour** y **Bye** son saludos."
   ]
  },
  {
   "cell_type": "code",
   "execution_count": null,
   "metadata": {},
   "outputs": [],
   "source": [
    "is_greeting('Bonjour')"
   ]
  },
  {
   "cell_type": "code",
   "execution_count": null,
   "metadata": {},
   "outputs": [],
   "source": [
    "is_greeting('Bye')"
   ]
  },
  {
   "cell_type": "markdown",
   "metadata": {},
   "source": [
    ">Obtén la documentación para la función is_greeting."
   ]
  },
  {
   "cell_type": "code",
   "execution_count": null,
   "metadata": {},
   "outputs": [],
   "source": []
  },
  {
   "cell_type": "code",
   "execution_count": null,
   "metadata": {},
   "outputs": [],
   "source": [
    "# %load ../solutions/04_05.py"
   ]
  },
  {
   "cell_type": "markdown",
   "metadata": {},
   "source": [
    ">Escribe una función que devuelva la entrada multiplicada por 3 y aumentada por 10.\n",
    "\n",
    "Nota: llamamos a estos argumentos de entrada."
   ]
  },
  {
   "cell_type": "code",
   "execution_count": null,
   "metadata": {},
   "outputs": [],
   "source": []
  },
  {
   "cell_type": "code",
   "execution_count": null,
   "metadata": {},
   "outputs": [],
   "source": [
    "# %load ../solutions/04_06.py"
   ]
  }
 ],
 "metadata": {
  "kernelspec": {
   "display_name": "Python 3 (ipykernel)",
   "language": "python",
   "name": "python3"
  },
  "language_info": {
   "codemirror_mode": {
    "name": "ipython",
    "version": 3
   },
   "file_extension": ".py",
   "mimetype": "text/x-python",
   "name": "python",
   "nbconvert_exporter": "python",
   "pygments_lexer": "ipython3",
   "version": "3.11.3"
  }
 },
 "nbformat": 4,
 "nbformat_minor": 4
}
